{
 "cells": [
  {
   "cell_type": "code",
   "execution_count": 1,
   "metadata": {},
   "outputs": [],
   "source": [
    "# ------------------------\n",
    "# Training Parameters\n",
    "# ------------------------\n",
    "num_epochs = 5\n",
    "batch_size = 1\n",
    "shuffle = True\n",
    "\n",
    "\n",
    "learning_rate = 1e-4\n",
    "gamma = 0.75\n",
    "eps = 1e-9\n",
    "dropout = 0.4\n",
    "\n",
    "num_workers = 8\n",
    "\n",
    "n_data = 1e3"
   ]
  },
  {
   "cell_type": "code",
   "execution_count": 7,
   "metadata": {},
   "outputs": [
    {
     "name": "stdout",
     "output_type": "stream",
     "text": [
      "tensor([[  0,   0,   0,   0,   0,   0,   0,   0,   0,   0, 109, 155, 155, 155,\n",
      "         155,  98,  35,  98,  98,  43, 109,   0, 109,  98, 139,   0,   0,   0,\n",
      "           0,   0,   0,   0,   0,   0,   0,   0,   0,   0,   0,   0,  43, 154,\n",
      "         154, 154, 154,  98,  35,  98,  98, 154,   0,   0,   0,   0,   0,   0,\n",
      "           0,   0,   0,   0,   0,   0,   0,   0,   0,   0,   0,   0,   0,   0,\n",
      "         109, 155, 155, 155, 155,   0,   0,   0,   0,   0,   0,   0,   0,   0,\n",
      "           0,   0,   0,   0,   0,   0,   0,   0,   0,   0,   0,   0,   0,   0,\n",
      "           0,   0,   0,   0,   0,   0,   0,   0,   0,   0,   0,   0,   0,   0,\n",
      "           0,   0,   0,   0,   0,   0,   0,   0,   0,   0,   0,   0,   0]])\n"
     ]
    }
   ],
   "source": [
    "from PositionalEmbedding3D import PositionalEmbedding3D\n",
    "from torch import nn as nn\n",
    "from Dataset import MinecraftBlockData, custom_collate, get_filenames\n",
    "from torch.utils.data import DataLoader\n",
    "import torch\n",
    "\n",
    "#make dataloader for testing\n",
    "\n",
    "# ----------------------\n",
    "# Dataset and DataLoader\n",
    "# ----------------------\n",
    "\n",
    "path = '../Datasets/Complete_Datasets/Minecraft6_5_5/data/'\n",
    "\n",
    "files = get_filenames(path, int(n_data))\n",
    "\n",
    "train_data = MinecraftBlockData(path, files)\n",
    "\n",
    "training_dataloader = DataLoader(train_data, batch_size, shuffle, num_workers=num_workers, collate_fn=custom_collate)\n",
    "\n",
    "d_model = 6\n",
    "src_shape = (5,5,5)\n",
    "tgt_shape = (1,5,5)\n",
    "tgt_offset = (5,0,0)\n",
    "device = 'cpu'\n",
    "tkn_embedding = nn.Embedding(251, d_model)\n",
    "pos_embedding = PositionalEmbedding3D(d_model, src_shape, tgt_shape, tgt_offset, device)\n",
    "\n",
    "for i, batch in enumerate(training_dataloader):\n",
    "    src = batch['src']\n",
    "    tgt = batch['tgt']\n",
    "    print(src)\n",
    "    output = tkn_embedding(src)\n",
    "    output = pos_embedding(output, True)\n",
    "    break\n",
    "# print(output)\n",
    "# print(pos_embedding.src_positions)\n",
    "# print(pos_embedding.src_pos_x)\n",
    "# print(torch.cat([pos_embedding.pos_embedding_x(pos_embedding.src_pos_x),pos_embedding.pos_embedding_y(pos_embedding.src_pos_y),pos_embedding.pos_embedding_z(pos_embedding.src_pos_z)], axis=-1))"
   ]
  },
  {
   "cell_type": "code",
   "execution_count": 3,
   "metadata": {},
   "outputs": [
    {
     "data": {
      "text/plain": [
       "0.0"
      ]
     },
     "execution_count": 3,
     "metadata": {},
     "output_type": "execute_result"
    }
   ],
   "source": [
    "losses = [34.5,234.2,23.3]\n",
    "sum(losses[-1:2]) / 4"
   ]
  }
 ],
 "metadata": {
  "kernelspec": {
   "display_name": "Python 3",
   "language": "python",
   "name": "python3"
  },
  "language_info": {
   "codemirror_mode": {
    "name": "ipython",
    "version": 3
   },
   "file_extension": ".py",
   "mimetype": "text/x-python",
   "name": "python",
   "nbconvert_exporter": "python",
   "pygments_lexer": "ipython3",
   "version": "3.10.6"
  }
 },
 "nbformat": 4,
 "nbformat_minor": 2
}
